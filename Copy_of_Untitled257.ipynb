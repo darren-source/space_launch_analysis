{
  "nbformat": 4,
  "nbformat_minor": 0,
  "metadata": {
    "colab": {
      "provenance": []
    },
    "kernelspec": {
      "name": "python3",
      "display_name": "Python 3"
    },
    "language_info": {
      "name": "python"
    }
  },
  "cells": [
    {
      "cell_type": "code",
      "execution_count": 1,
      "metadata": {
        "colab": {
          "base_uri": "https://localhost:8080/"
        },
        "id": "fYpH8ncXpHC6",
        "outputId": "676f8d6f-9764-46c6-e207-8e732f51fbbc"
      },
      "outputs": [
        {
          "output_type": "stream",
          "name": "stdout",
          "text": [
            "Requirement already satisfied: plotly in /usr/local/lib/python3.11/dist-packages (5.24.1)\n",
            "Collecting plotly\n",
            "  Downloading plotly-6.2.0-py3-none-any.whl.metadata (8.5 kB)\n",
            "Requirement already satisfied: narwhals>=1.15.1 in /usr/local/lib/python3.11/dist-packages (from plotly) (1.45.0)\n",
            "Requirement already satisfied: packaging in /usr/local/lib/python3.11/dist-packages (from plotly) (24.2)\n",
            "Downloading plotly-6.2.0-py3-none-any.whl (9.6 MB)\n",
            "\u001b[2K   \u001b[90m━━━━━━━━━━━━━━━━━━━━━━━━━━━━━━━━━━━━━━━━\u001b[0m \u001b[32m9.6/9.6 MB\u001b[0m \u001b[31m51.5 MB/s\u001b[0m eta \u001b[36m0:00:00\u001b[0m\n",
            "\u001b[?25hInstalling collected packages: plotly\n",
            "  Attempting uninstall: plotly\n",
            "    Found existing installation: plotly 5.24.1\n",
            "    Uninstalling plotly-5.24.1:\n",
            "      Successfully uninstalled plotly-5.24.1\n",
            "Successfully installed plotly-6.2.0\n"
          ]
        }
      ],
      "source": [
        "!pip install plotly --upgrade"
      ]
    },
    {
      "cell_type": "code",
      "source": [
        "!pip install dash --quiet"
      ],
      "metadata": {
        "id": "XXohovUZV2G8"
      },
      "execution_count": 7,
      "outputs": []
    },
    {
      "cell_type": "code",
      "source": [
        "import plotly.graph_objects as go\n",
        "import plotly.express as px"
      ],
      "metadata": {
        "id": "Q-VgbAD8pT1W"
      },
      "execution_count": 8,
      "outputs": []
    },
    {
      "cell_type": "code",
      "source": [
        "!wget \"https://cf-courses-data.s3.us.cloud-object-storage.appdomain.cloud/IBM-DS0321EN-SkillsNetwork/datasets/spacex_launch_dash.csv\"\n",
        "\n"
      ],
      "metadata": {
        "colab": {
          "base_uri": "https://localhost:8080/"
        },
        "id": "xLW2r9IFpfpo",
        "outputId": "b2f7e118-2b0b-429d-e60c-4280633c5c41"
      },
      "execution_count": 9,
      "outputs": [
        {
          "output_type": "stream",
          "name": "stdout",
          "text": [
            "--2025-07-06 20:05:01--  https://cf-courses-data.s3.us.cloud-object-storage.appdomain.cloud/IBM-DS0321EN-SkillsNetwork/datasets/spacex_launch_dash.csv\n",
            "Resolving cf-courses-data.s3.us.cloud-object-storage.appdomain.cloud (cf-courses-data.s3.us.cloud-object-storage.appdomain.cloud)... 169.63.118.104\n",
            "Connecting to cf-courses-data.s3.us.cloud-object-storage.appdomain.cloud (cf-courses-data.s3.us.cloud-object-storage.appdomain.cloud)|169.63.118.104|:443... connected.\n",
            "HTTP request sent, awaiting response... 200 OK\n",
            "Length: 2476 (2.4K) [text/csv]\n",
            "Saving to: ‘spacex_launch_dash.csv.1’\n",
            "\n",
            "\rspacex_launch_dash.   0%[                    ]       0  --.-KB/s               \rspacex_launch_dash. 100%[===================>]   2.42K  --.-KB/s    in 0s      \n",
            "\n",
            "2025-07-06 20:05:01 (626 MB/s) - ‘spacex_launch_dash.csv.1’ saved [2476/2476]\n",
            "\n"
          ]
        }
      ]
    },
    {
      "cell_type": "code",
      "source": [
        "!wget \"https://cf-courses-data.s3.us.cloud-object-storage.appdomain.cloud/t4-Vy4iOU19i8y6E3Px_ww/spacex-dash-app.py\"\n",
        "\n"
      ],
      "metadata": {
        "colab": {
          "base_uri": "https://localhost:8080/"
        },
        "id": "DGPzuQcErjaE",
        "outputId": "bf2bcf9f-a4f1-480f-9b67-4b732e11c73c"
      },
      "execution_count": 10,
      "outputs": [
        {
          "output_type": "stream",
          "name": "stdout",
          "text": [
            "--2025-07-06 20:05:02--  https://cf-courses-data.s3.us.cloud-object-storage.appdomain.cloud/t4-Vy4iOU19i8y6E3Px_ww/spacex-dash-app.py\n",
            "Resolving cf-courses-data.s3.us.cloud-object-storage.appdomain.cloud (cf-courses-data.s3.us.cloud-object-storage.appdomain.cloud)... 169.63.118.104\n",
            "Connecting to cf-courses-data.s3.us.cloud-object-storage.appdomain.cloud (cf-courses-data.s3.us.cloud-object-storage.appdomain.cloud)|169.63.118.104|:443... connected.\n",
            "HTTP request sent, awaiting response... 200 OK\n",
            "Length: 2075 (2.0K) [application/x-python]\n",
            "Saving to: ‘spacex-dash-app.py.1’\n",
            "\n",
            "\rspacex-dash-app.py.   0%[                    ]       0  --.-KB/s               \rspacex-dash-app.py. 100%[===================>]   2.03K  --.-KB/s    in 0s      \n",
            "\n",
            "2025-07-06 20:05:02 (786 MB/s) - ‘spacex-dash-app.py.1’ saved [2075/2075]\n",
            "\n"
          ]
        }
      ]
    },
    {
      "cell_type": "code",
      "source": [
        "from dash import Dash, dcc, html, Input, Output\n",
        "from dash.dash_table import DataTable\n",
        "from dash import jupyter_dash"
      ],
      "metadata": {
        "id": "1vMLjl4Gu9_s"
      },
      "execution_count": 11,
      "outputs": []
    },
    {
      "cell_type": "code",
      "source": [
        "!pip install jupyter-dash --quiet"
      ],
      "metadata": {
        "id": "xU4Q3yeevWuv",
        "colab": {
          "base_uri": "https://localhost:8080/"
        },
        "outputId": "301e15b5-e42d-4048-8619-95d9bfe835ae"
      },
      "execution_count": 12,
      "outputs": [
        {
          "output_type": "stream",
          "name": "stdout",
          "text": [
            "\u001b[?25l   \u001b[90m━━━━━━━━━━━━━━━━━━━━━━━━━━━━━━━━━━━━━━━━\u001b[0m \u001b[32m0.0/1.6 MB\u001b[0m \u001b[31m?\u001b[0m eta \u001b[36m-:--:--\u001b[0m\r\u001b[2K   \u001b[90m━━━━━━━━━━━━━━━━━━━━━━━━━━━━━━━━━━━━━━━━\u001b[0m \u001b[32m1.6/1.6 MB\u001b[0m \u001b[31m65.6 MB/s\u001b[0m eta \u001b[36m0:00:00\u001b[0m\n",
            "\u001b[?25h"
          ]
        }
      ]
    },
    {
      "cell_type": "code",
      "source": [
        "from dash import dcc, html, Input, Output\n",
        "import pandas as pd\n",
        "from dash import Dash\n",
        "\n",
        "# Load data\n",
        "spacex_df = pd.read_csv(\"spacex_launch_dash.csv\")\n",
        "unique_sites = sorted(spacex_df['Launch Site'].unique())\n",
        "\n",
        "dropdown_options = [{'label': 'All Sites', 'value': 'ALL'}] + \\\n",
        "                   [{'label': site, 'value': site} for site in unique_sites]\n",
        "\n",
        "# ✅ Use Dash here\n",
        "app = Dash(__name__)\n",
        "app.layout = html.Div([\n",
        "    html.H1(\"SpaceX Launch Records Dashboard\", style={'textAlign': 'center', 'color': '#503D36',\n",
        "                                                      'font-size': 40}),\n",
        "\n",
        "    dcc.Dropdown(\n",
        "        id='site-dropdown',\n",
        "        options=dropdown_options,\n",
        "        value='ALL',\n",
        "        placeholder=\"Select a Launch Site here\",\n",
        "        searchable=True,\n",
        "        style={'width': '80%', 'padding': '3px', 'font-size': '20px', 'textAlign': 'center', 'margin': 'auto'}\n",
        "    ),\n",
        "\n",
        "    html.Br(),\n",
        "    html.Div(id='output-container')\n",
        "])\n",
        "\n",
        "# ✅ Inline display\n",
        "app.run(mode='inline')"
      ],
      "metadata": {
        "colab": {
          "base_uri": "https://localhost:8080/",
          "height": 671
        },
        "id": "uuzcZi0vvZ61",
        "outputId": "0529e22b-c613-49a7-d914-5b209d65dc07"
      },
      "execution_count": 13,
      "outputs": [
        {
          "output_type": "display_data",
          "data": {
            "text/plain": [
              "<IPython.core.display.Javascript object>"
            ],
            "application/javascript": [
              "(async (port, path, width, height, cache, element) => {\n",
              "    if (!google.colab.kernel.accessAllowed && !cache) {\n",
              "      return;\n",
              "    }\n",
              "    element.appendChild(document.createTextNode(''));\n",
              "    const url = await google.colab.kernel.proxyPort(port, {cache});\n",
              "    const iframe = document.createElement('iframe');\n",
              "    iframe.src = new URL(path, url).toString();\n",
              "    iframe.height = height;\n",
              "    iframe.width = width;\n",
              "    iframe.style.border = 0;\n",
              "    iframe.allow = [\n",
              "        'accelerometer',\n",
              "        'autoplay',\n",
              "        'camera',\n",
              "        'clipboard-read',\n",
              "        'clipboard-write',\n",
              "        'gyroscope',\n",
              "        'magnetometer',\n",
              "        'microphone',\n",
              "        'serial',\n",
              "        'usb',\n",
              "        'xr-spatial-tracking',\n",
              "    ].join('; ');\n",
              "    element.appendChild(iframe);\n",
              "  })(8050, \"/\", \"100%\", 650, false, window.element)"
            ]
          },
          "metadata": {}
        }
      ]
    },
    {
      "cell_type": "code",
      "source": [
        "app.layout = html.Div([\n",
        "    html.H1(\"SpaceX Launch Records Dashboard\", style={'textAlign': 'center', 'color': '#503D36',\n",
        "                                                      'font-size': 40}),\n",
        "\n",
        "    dcc.Dropdown(\n",
        "        id='site-dropdown',\n",
        "        options=dropdown_options,\n",
        "        value='ALL',\n",
        "        placeholder=\"Select a Launch Site here\",\n",
        "        searchable=True,\n",
        "        style={'width': '80%', 'padding': '3px', 'font-size': '20px', 'textAlign': 'center', 'margin': 'auto'}\n",
        "    ),\n",
        "\n",
        "    html.Br(),\n",
        "\n",
        "    # ✅ Add the pie chart here\n",
        "    dcc.Graph(id='success-pie-chart'),\n",
        "\n",
        "    html.Br(),\n",
        "    html.Div(id='output-container')\n",
        "])"
      ],
      "metadata": {
        "id": "-IHFEIIdvzCf"
      },
      "execution_count": 14,
      "outputs": []
    },
    {
      "cell_type": "code",
      "source": [
        "from dash.dependencies import Input, Output\n",
        "import plotly.express as px\n",
        "\n",
        "@app.callback(\n",
        "    Output(component_id='success-pie-chart', component_property='figure'),\n",
        "    Input(component_id='site-dropdown', component_property='value')\n",
        ")\n",
        "def update_pie_chart(selected_site):\n",
        "    if selected_site == 'ALL':\n",
        "        # Total success launches by site\n",
        "        fig = px.pie(\n",
        "            spacex_df,\n",
        "            names='Launch Site',\n",
        "            values='class',\n",
        "            title='Total Success Launches by Site'\n",
        "        )\n",
        "    else:\n",
        "        # Filter the dataframe for selected site\n",
        "        filtered_df = spacex_df[spacex_df['Launch Site'] == selected_site]\n",
        "\n",
        "        # Count success and failure\n",
        "        success_counts = filtered_df['class'].value_counts().reset_index()\n",
        "        success_counts.columns = ['class', 'count']\n",
        "        success_counts['class'] = success_counts['class'].replace({1: 'Success', 0: 'Failure'})\n",
        "\n",
        "        # Create pie chart\n",
        "        fig = px.pie(\n",
        "            success_counts,\n",
        "            names='class',\n",
        "            values='count',\n",
        "            title=f'Success vs Failure for {selected_site}'\n",
        "        )\n",
        "    return fig"
      ],
      "metadata": {
        "id": "aSHlS46MwPYI"
      },
      "execution_count": 15,
      "outputs": []
    },
    {
      "cell_type": "code",
      "source": [
        "app.run(mode='inline')"
      ],
      "metadata": {
        "colab": {
          "base_uri": "https://localhost:8080/",
          "height": 671
        },
        "id": "1rCJZjQvwUOu",
        "outputId": "8985b843-0dd3-44b4-91ab-61eb7389853f"
      },
      "execution_count": 16,
      "outputs": [
        {
          "output_type": "display_data",
          "data": {
            "text/plain": [
              "<IPython.core.display.Javascript object>"
            ],
            "application/javascript": [
              "(async (port, path, width, height, cache, element) => {\n",
              "    if (!google.colab.kernel.accessAllowed && !cache) {\n",
              "      return;\n",
              "    }\n",
              "    element.appendChild(document.createTextNode(''));\n",
              "    const url = await google.colab.kernel.proxyPort(port, {cache});\n",
              "    const iframe = document.createElement('iframe');\n",
              "    iframe.src = new URL(path, url).toString();\n",
              "    iframe.height = height;\n",
              "    iframe.width = width;\n",
              "    iframe.style.border = 0;\n",
              "    iframe.allow = [\n",
              "        'accelerometer',\n",
              "        'autoplay',\n",
              "        'camera',\n",
              "        'clipboard-read',\n",
              "        'clipboard-write',\n",
              "        'gyroscope',\n",
              "        'magnetometer',\n",
              "        'microphone',\n",
              "        'serial',\n",
              "        'usb',\n",
              "        'xr-spatial-tracking',\n",
              "    ].join('; ');\n",
              "    element.appendChild(iframe);\n",
              "  })(8050, \"/\", \"100%\", 650, false, window.element)"
            ]
          },
          "metadata": {}
        }
      ]
    },
    {
      "cell_type": "code",
      "source": [
        "min_payload = spacex_df['Payload Mass (kg)'].min()\n",
        "max_payload = spacex_df['Payload Mass (kg)'].max()"
      ],
      "metadata": {
        "id": "ssvIJhSqwXZj"
      },
      "execution_count": 17,
      "outputs": []
    },
    {
      "cell_type": "code",
      "source": [
        "html.P(\"Payload range (Kg):\", style={'fontWeight': 'bold'}),\n",
        "\n",
        "dcc.RangeSlider(\n",
        "    id='payload-slider',\n",
        "    min=0,\n",
        "    max=10000,\n",
        "    step=1000,\n",
        "    value=[min_payload, max_payload],\n",
        "    marks={0: '0', 2500: '2500', 5000: '5000', 7500: '7500', 10000: '10000'},\n",
        "    tooltip={\"placement\": \"bottom\", \"always_visible\": True},\n",
        "    # style={'padding': '40px'} # Removed style argument\n",
        "),"
      ],
      "metadata": {
        "colab": {
          "base_uri": "https://localhost:8080/"
        },
        "id": "Z6mte5AzxWzJ",
        "outputId": "c4ac8d14-6828-4f50-8034-6ce72000383d"
      },
      "execution_count": 18,
      "outputs": [
        {
          "output_type": "execute_result",
          "data": {
            "text/plain": [
              "(RangeSlider(min=0, max=10000, step=1000, marks={0: '0', 2500: '2500', 5000: '5000', 7500: '7500', 10000: '10000'}, value=[0.0, 9600.0], tooltip={'placement': 'bottom', 'always_visible': True}, id='payload-slider'),)"
            ]
          },
          "metadata": {},
          "execution_count": 18
        }
      ]
    },
    {
      "cell_type": "code",
      "source": [
        "app.layout = html.Div([\n",
        "    html.H1(\"SpaceX Launch Records Dashboard\", style={'textAlign': 'center', 'color': '#503D36',\n",
        "                                                      'font-size': 40}),\n",
        "\n",
        "    dcc.Dropdown(\n",
        "        id='site-dropdown',\n",
        "        options=dropdown_options,\n",
        "        value='ALL',\n",
        "        placeholder=\"Select a Launch Site here\",\n",
        "        searchable=True,\n",
        "        style={'width': '80%', 'padding': '3px', 'font-size': '20px', 'textAlign': 'center', 'margin': 'auto'}\n",
        "    ),\n",
        "\n",
        "    html.Br(),\n",
        "    dcc.Graph(id='success-pie-chart'),\n",
        "\n",
        "    html.Br(),\n",
        "    html.P(\"Payload range (Kg):\", style={'fontWeight': 'bold'}),\n",
        "\n",
        "    dcc.RangeSlider(\n",
        "        id='payload-slider',\n",
        "        min=0,\n",
        "        max=10000,\n",
        "        step=1000,\n",
        "        value=[min_payload, max_payload],\n",
        "        marks={0: '0', 2500: '2500', 5000: '5000', 7500: '7500', 10000: '10000'},\n",
        "        tooltip={\"placement\": \"bottom\", \"always_visible\": True},\n",
        "        # style={'padding': '40px'} # Removed style argument\n",
        "    ),\n",
        "\n",
        "    html.Br(),\n",
        "    html.Div(id='output-container')\n",
        "])"
      ],
      "metadata": {
        "id": "H86qCEYOxcWi"
      },
      "execution_count": 19,
      "outputs": []
    },
    {
      "cell_type": "code",
      "source": [
        "html.Div([\n",
        "    html.P(\"Payload range (Kg):\", style={'fontWeight': 'bold'}),\n",
        "\n",
        "    html.Div([\n",
        "        dcc.RangeSlider(\n",
        "            id='payload-slider',\n",
        "            min=0,\n",
        "            max=10000,\n",
        "            step=1000,\n",
        "            value=[min_payload, max_payload],\n",
        "            marks={\n",
        "                0: '0',\n",
        "                2500: '2500',\n",
        "                5000: '5000',\n",
        "                7500: '7500',\n",
        "                10000: '10000'\n",
        "            },\n",
        "            tooltip={\"placement\": \"bottom\", \"always_visible\": True}\n",
        "        )\n",
        "    ], style={'width': '100%', 'padding': '0px 30px 30px 30px'})\n",
        "])"
      ],
      "metadata": {
        "colab": {
          "base_uri": "https://localhost:8080/"
        },
        "id": "sObhj82jxmCz",
        "outputId": "aa726257-266a-45d4-98dd-b3c9d7a6f7d5"
      },
      "execution_count": 20,
      "outputs": [
        {
          "output_type": "execute_result",
          "data": {
            "text/plain": [
              "Div([P(children='Payload range (Kg):', style={'fontWeight': 'bold'}), Div(children=[RangeSlider(min=0, max=10000, step=1000, marks={0: '0', 2500: '2500', 5000: '5000', 7500: '7500', 10000: '10000'}, value=[0.0, 9600.0], tooltip={'placement': 'bottom', 'always_visible': True}, id='payload-slider')], style={'width': '100%', 'padding': '0px 30px 30px 30px'})])"
            ]
          },
          "metadata": {},
          "execution_count": 20
        }
      ]
    },
    {
      "cell_type": "code",
      "source": [
        "app.run(mode='inline')"
      ],
      "metadata": {
        "colab": {
          "base_uri": "https://localhost:8080/",
          "height": 671
        },
        "id": "YkR4xgNIyYZ6",
        "outputId": "32fe5312-d7b2-4707-a5b1-a7605fedfd4c"
      },
      "execution_count": 21,
      "outputs": [
        {
          "output_type": "display_data",
          "data": {
            "text/plain": [
              "<IPython.core.display.Javascript object>"
            ],
            "application/javascript": [
              "(async (port, path, width, height, cache, element) => {\n",
              "    if (!google.colab.kernel.accessAllowed && !cache) {\n",
              "      return;\n",
              "    }\n",
              "    element.appendChild(document.createTextNode(''));\n",
              "    const url = await google.colab.kernel.proxyPort(port, {cache});\n",
              "    const iframe = document.createElement('iframe');\n",
              "    iframe.src = new URL(path, url).toString();\n",
              "    iframe.height = height;\n",
              "    iframe.width = width;\n",
              "    iframe.style.border = 0;\n",
              "    iframe.allow = [\n",
              "        'accelerometer',\n",
              "        'autoplay',\n",
              "        'camera',\n",
              "        'clipboard-read',\n",
              "        'clipboard-write',\n",
              "        'gyroscope',\n",
              "        'magnetometer',\n",
              "        'microphone',\n",
              "        'serial',\n",
              "        'usb',\n",
              "        'xr-spatial-tracking',\n",
              "    ].join('; ');\n",
              "    element.appendChild(iframe);\n",
              "  })(8050, \"/\", \"100%\", 650, false, window.element)"
            ]
          },
          "metadata": {}
        }
      ]
    },
    {
      "cell_type": "code",
      "source": [
        "dcc.Graph(id='success-payload-scatter-chart'),"
      ],
      "metadata": {
        "colab": {
          "base_uri": "https://localhost:8080/"
        },
        "id": "Z_KGBparyuYa",
        "outputId": "c20aed49-d81e-4e30-d3a1-278f6446e91c"
      },
      "execution_count": 22,
      "outputs": [
        {
          "output_type": "execute_result",
          "data": {
            "text/plain": [
              "(Graph(id='success-payload-scatter-chart'),)"
            ]
          },
          "metadata": {},
          "execution_count": 22
        }
      ]
    },
    {
      "cell_type": "code",
      "source": [
        "from dash.dependencies import Input, Output\n",
        "import plotly.express as px\n",
        "\n",
        "@app.callback(\n",
        "    Output(component_id='success-payload-scatter-chart', component_property='figure'),\n",
        "    Input(component_id='site-dropdown', component_property='value'),\n",
        "    Input(component_id='payload-slider', component_property='value')\n",
        ")\n",
        "def update_scatter(selected_site, payload_range):\n",
        "    low, high = payload_range\n",
        "\n",
        "    # Filter by payload range first\n",
        "    filtered_df = spacex_df[\n",
        "        (spacex_df['Payload Mass (kg)'] >= low) &\n",
        "        (spacex_df['Payload Mass (kg)'] <= high)\n",
        "    ]\n",
        "\n",
        "    if selected_site == 'ALL':\n",
        "        fig = px.scatter(\n",
        "            filtered_df,\n",
        "            x='Payload Mass (kg)',\n",
        "            y='class',\n",
        "            color='Booster Version Category',\n",
        "            title='Correlation Between Payload and Success for All Sites',\n",
        "            hover_data=['Launch Site']\n",
        "        )\n",
        "    else:\n",
        "        # Filter by selected launch site\n",
        "        site_df = filtered_df[filtered_df['Launch Site'] == selected_site]\n",
        "        fig = px.scatter(\n",
        "            site_df,\n",
        "            x='Payload Mass (kg)',\n",
        "            y='class',\n",
        "            color='Booster Version Category',\n",
        "            title=f'Correlation Between Payload and Success for site {selected_site}',\n",
        "            hover_data=['Launch Site']\n",
        "        )\n",
        "\n",
        "    return fig"
      ],
      "metadata": {
        "id": "QG1lkJod3a-K"
      },
      "execution_count": 23,
      "outputs": []
    },
    {
      "cell_type": "code",
      "source": [
        "app.layout = html.Div([\n",
        "    html.H1(\"SpaceX Launch Records Dashboard\", style={'textAlign': 'center'}),\n",
        "\n",
        "    # ✅ Valid dropdown component\n",
        "    dcc.Dropdown(\n",
        "        id='site-dropdown',\n",
        "        options=dropdown_options,\n",
        "        value='ALL',\n",
        "        placeholder=\"Select a Launch Site here\",\n",
        "        searchable=True,\n",
        "        style={'width': '80%', 'padding': '3px', 'font-size': '20px', 'textAlign': 'center', 'margin': 'auto'}\n",
        "    ),\n",
        "\n",
        "    dcc.Graph(id='success-pie-chart'),\n",
        "\n",
        "    html.Div([\n",
        "        html.P(\"Payload range (Kg):\", style={'fontWeight': 'bold'}),\n",
        "        html.Div([\n",
        "            dcc.RangeSlider(\n",
        "                id='payload-slider',\n",
        "                min=0,\n",
        "                max=10000,\n",
        "                step=1000,\n",
        "                value=[min_payload, max_payload],\n",
        "                marks={0: '0', 2500: '2500', 5000: '5000', 7500: '7500', 10000: '10000'},\n",
        "                tooltip={\"placement\": \"bottom\", \"always_visible\": True}\n",
        "            )\n",
        "        ], style={'width': '100%', 'padding': '0px 30px 30px 30px'})\n",
        "    ]),\n",
        "\n",
        "    dcc.Graph(id='success-payload-scatter-chart')\n",
        "])\n",
        "\n"
      ],
      "metadata": {
        "id": "qv7ZCPLt3fUz"
      },
      "execution_count": 24,
      "outputs": []
    },
    {
      "cell_type": "code",
      "source": [
        "app.run(mode='inline')"
      ],
      "metadata": {
        "colab": {
          "base_uri": "https://localhost:8080/",
          "height": 671
        },
        "id": "g1PcLG-P3mtN",
        "outputId": "cce328a8-f5df-4c91-c6ec-5e75e9eed7ec"
      },
      "execution_count": 25,
      "outputs": [
        {
          "output_type": "display_data",
          "data": {
            "text/plain": [
              "<IPython.core.display.Javascript object>"
            ],
            "application/javascript": [
              "(async (port, path, width, height, cache, element) => {\n",
              "    if (!google.colab.kernel.accessAllowed && !cache) {\n",
              "      return;\n",
              "    }\n",
              "    element.appendChild(document.createTextNode(''));\n",
              "    const url = await google.colab.kernel.proxyPort(port, {cache});\n",
              "    const iframe = document.createElement('iframe');\n",
              "    iframe.src = new URL(path, url).toString();\n",
              "    iframe.height = height;\n",
              "    iframe.width = width;\n",
              "    iframe.style.border = 0;\n",
              "    iframe.allow = [\n",
              "        'accelerometer',\n",
              "        'autoplay',\n",
              "        'camera',\n",
              "        'clipboard-read',\n",
              "        'clipboard-write',\n",
              "        'gyroscope',\n",
              "        'magnetometer',\n",
              "        'microphone',\n",
              "        'serial',\n",
              "        'usb',\n",
              "        'xr-spatial-tracking',\n",
              "    ].join('; ');\n",
              "    element.appendChild(iframe);\n",
              "  })(8050, \"/\", \"100%\", 650, false, window.element)"
            ]
          },
          "metadata": {}
        }
      ]
    },
    {
      "cell_type": "code",
      "source": [
        "spacex_df[spacex_df['class'] == 1]['Launch Site'].value_counts()"
      ],
      "metadata": {
        "id": "aag9Hm-S38Jn",
        "outputId": "b814e712-4495-487e-efb9-a5e94592a8a7",
        "colab": {
          "base_uri": "https://localhost:8080/",
          "height": 241
        }
      },
      "execution_count": 26,
      "outputs": [
        {
          "output_type": "execute_result",
          "data": {
            "text/plain": [
              "Launch Site\n",
              "KSC LC-39A      10\n",
              "CCAFS LC-40      7\n",
              "VAFB SLC-4E      4\n",
              "CCAFS SLC-40     3\n",
              "Name: count, dtype: int64"
            ],
            "text/html": [
              "<div>\n",
              "<style scoped>\n",
              "    .dataframe tbody tr th:only-of-type {\n",
              "        vertical-align: middle;\n",
              "    }\n",
              "\n",
              "    .dataframe tbody tr th {\n",
              "        vertical-align: top;\n",
              "    }\n",
              "\n",
              "    .dataframe thead th {\n",
              "        text-align: right;\n",
              "    }\n",
              "</style>\n",
              "<table border=\"1\" class=\"dataframe\">\n",
              "  <thead>\n",
              "    <tr style=\"text-align: right;\">\n",
              "      <th></th>\n",
              "      <th>count</th>\n",
              "    </tr>\n",
              "    <tr>\n",
              "      <th>Launch Site</th>\n",
              "      <th></th>\n",
              "    </tr>\n",
              "  </thead>\n",
              "  <tbody>\n",
              "    <tr>\n",
              "      <th>KSC LC-39A</th>\n",
              "      <td>10</td>\n",
              "    </tr>\n",
              "    <tr>\n",
              "      <th>CCAFS LC-40</th>\n",
              "      <td>7</td>\n",
              "    </tr>\n",
              "    <tr>\n",
              "      <th>VAFB SLC-4E</th>\n",
              "      <td>4</td>\n",
              "    </tr>\n",
              "    <tr>\n",
              "      <th>CCAFS SLC-40</th>\n",
              "      <td>3</td>\n",
              "    </tr>\n",
              "  </tbody>\n",
              "</table>\n",
              "</div><br><label><b>dtype:</b> int64</label>"
            ]
          },
          "metadata": {},
          "execution_count": 26
        }
      ]
    },
    {
      "cell_type": "code",
      "source": [
        "success_rate = spacex_df.groupby('Launch Site')['class'].mean().sort_values(ascending=False)\n",
        "success_rate"
      ],
      "metadata": {
        "id": "BcZWR4JE4NTZ",
        "outputId": "dc017694-e333-46be-814e-719ee54626dd",
        "colab": {
          "base_uri": "https://localhost:8080/",
          "height": 241
        }
      },
      "execution_count": 27,
      "outputs": [
        {
          "output_type": "execute_result",
          "data": {
            "text/plain": [
              "Launch Site\n",
              "KSC LC-39A      0.769231\n",
              "CCAFS SLC-40    0.428571\n",
              "VAFB SLC-4E     0.400000\n",
              "CCAFS LC-40     0.269231\n",
              "Name: class, dtype: float64"
            ],
            "text/html": [
              "<div>\n",
              "<style scoped>\n",
              "    .dataframe tbody tr th:only-of-type {\n",
              "        vertical-align: middle;\n",
              "    }\n",
              "\n",
              "    .dataframe tbody tr th {\n",
              "        vertical-align: top;\n",
              "    }\n",
              "\n",
              "    .dataframe thead th {\n",
              "        text-align: right;\n",
              "    }\n",
              "</style>\n",
              "<table border=\"1\" class=\"dataframe\">\n",
              "  <thead>\n",
              "    <tr style=\"text-align: right;\">\n",
              "      <th></th>\n",
              "      <th>class</th>\n",
              "    </tr>\n",
              "    <tr>\n",
              "      <th>Launch Site</th>\n",
              "      <th></th>\n",
              "    </tr>\n",
              "  </thead>\n",
              "  <tbody>\n",
              "    <tr>\n",
              "      <th>KSC LC-39A</th>\n",
              "      <td>0.769231</td>\n",
              "    </tr>\n",
              "    <tr>\n",
              "      <th>CCAFS SLC-40</th>\n",
              "      <td>0.428571</td>\n",
              "    </tr>\n",
              "    <tr>\n",
              "      <th>VAFB SLC-4E</th>\n",
              "      <td>0.400000</td>\n",
              "    </tr>\n",
              "    <tr>\n",
              "      <th>CCAFS LC-40</th>\n",
              "      <td>0.269231</td>\n",
              "    </tr>\n",
              "  </tbody>\n",
              "</table>\n",
              "</div><br><label><b>dtype:</b> float64</label>"
            ]
          },
          "metadata": {},
          "execution_count": 27
        }
      ]
    },
    {
      "cell_type": "code",
      "source": [
        "spacex_df['payload_bin'] = pd.cut(spacex_df['Payload Mass (kg)'],\n",
        "                                   bins=[0, 2000, 4000, 6000, 8000, 10000],\n",
        "                                   labels=['0–2k', '2–4k', '4–6k', '6–8k', '8–10k'])\n",
        "\n",
        "spacex_df.groupby('payload_bin')['class'].mean().sort_values(ascending=False)"
      ],
      "metadata": {
        "id": "r2AhjxiB4RP8",
        "outputId": "c84d8eab-f894-4b3a-aecd-e38a8cd73e19",
        "colab": {
          "base_uri": "https://localhost:8080/",
          "height": 361
        }
      },
      "execution_count": 28,
      "outputs": [
        {
          "output_type": "stream",
          "name": "stderr",
          "text": [
            "/tmp/ipython-input-28-3059316340.py:5: FutureWarning:\n",
            "\n",
            "The default of observed=False is deprecated and will be changed to True in a future version of pandas. Pass observed=False to retain current behavior or observed=True to adopt the future default and silence this warning.\n",
            "\n"
          ]
        },
        {
          "output_type": "execute_result",
          "data": {
            "text/plain": [
              "payload_bin\n",
              "2–4k     0.619048\n",
              "8–10k    0.600000\n",
              "4–6k     0.384615\n",
              "0–2k     0.272727\n",
              "6–8k     0.000000\n",
              "Name: class, dtype: float64"
            ],
            "text/html": [
              "<div>\n",
              "<style scoped>\n",
              "    .dataframe tbody tr th:only-of-type {\n",
              "        vertical-align: middle;\n",
              "    }\n",
              "\n",
              "    .dataframe tbody tr th {\n",
              "        vertical-align: top;\n",
              "    }\n",
              "\n",
              "    .dataframe thead th {\n",
              "        text-align: right;\n",
              "    }\n",
              "</style>\n",
              "<table border=\"1\" class=\"dataframe\">\n",
              "  <thead>\n",
              "    <tr style=\"text-align: right;\">\n",
              "      <th></th>\n",
              "      <th>class</th>\n",
              "    </tr>\n",
              "    <tr>\n",
              "      <th>payload_bin</th>\n",
              "      <th></th>\n",
              "    </tr>\n",
              "  </thead>\n",
              "  <tbody>\n",
              "    <tr>\n",
              "      <th>2–4k</th>\n",
              "      <td>0.619048</td>\n",
              "    </tr>\n",
              "    <tr>\n",
              "      <th>8–10k</th>\n",
              "      <td>0.600000</td>\n",
              "    </tr>\n",
              "    <tr>\n",
              "      <th>4–6k</th>\n",
              "      <td>0.384615</td>\n",
              "    </tr>\n",
              "    <tr>\n",
              "      <th>0–2k</th>\n",
              "      <td>0.272727</td>\n",
              "    </tr>\n",
              "    <tr>\n",
              "      <th>6–8k</th>\n",
              "      <td>0.000000</td>\n",
              "    </tr>\n",
              "  </tbody>\n",
              "</table>\n",
              "</div><br><label><b>dtype:</b> float64</label>"
            ]
          },
          "metadata": {},
          "execution_count": 28
        }
      ]
    },
    {
      "cell_type": "code",
      "source": [
        "spacex_df.groupby('Booster Version Category')['class'].mean().sort_values(ascending=False)"
      ],
      "metadata": {
        "id": "GNizNTap4aBJ",
        "outputId": "e120803a-169b-4a93-89bb-077e855a792c",
        "colab": {
          "base_uri": "https://localhost:8080/",
          "height": 272
        }
      },
      "execution_count": 29,
      "outputs": [
        {
          "output_type": "execute_result",
          "data": {
            "text/plain": [
              "Booster Version Category\n",
              "B5      1.000000\n",
              "FT      0.666667\n",
              "B4      0.545455\n",
              "v1.1    0.066667\n",
              "v1.0    0.000000\n",
              "Name: class, dtype: float64"
            ],
            "text/html": [
              "<div>\n",
              "<style scoped>\n",
              "    .dataframe tbody tr th:only-of-type {\n",
              "        vertical-align: middle;\n",
              "    }\n",
              "\n",
              "    .dataframe tbody tr th {\n",
              "        vertical-align: top;\n",
              "    }\n",
              "\n",
              "    .dataframe thead th {\n",
              "        text-align: right;\n",
              "    }\n",
              "</style>\n",
              "<table border=\"1\" class=\"dataframe\">\n",
              "  <thead>\n",
              "    <tr style=\"text-align: right;\">\n",
              "      <th></th>\n",
              "      <th>class</th>\n",
              "    </tr>\n",
              "    <tr>\n",
              "      <th>Booster Version Category</th>\n",
              "      <th></th>\n",
              "    </tr>\n",
              "  </thead>\n",
              "  <tbody>\n",
              "    <tr>\n",
              "      <th>B5</th>\n",
              "      <td>1.000000</td>\n",
              "    </tr>\n",
              "    <tr>\n",
              "      <th>FT</th>\n",
              "      <td>0.666667</td>\n",
              "    </tr>\n",
              "    <tr>\n",
              "      <th>B4</th>\n",
              "      <td>0.545455</td>\n",
              "    </tr>\n",
              "    <tr>\n",
              "      <th>v1.1</th>\n",
              "      <td>0.066667</td>\n",
              "    </tr>\n",
              "    <tr>\n",
              "      <th>v1.0</th>\n",
              "      <td>0.000000</td>\n",
              "    </tr>\n",
              "  </tbody>\n",
              "</table>\n",
              "</div><br><label><b>dtype:</b> float64</label>"
            ]
          },
          "metadata": {},
          "execution_count": 29
        }
      ]
    },
    {
      "cell_type": "code",
      "source": [
        "print(\"1. Most successful launches by site:\\n\", spacex_df[spacex_df['class'] == 1]['Launch Site'].value_counts(), \"\\n\")\n",
        "\n",
        "print(\"2. Highest success rate by site:\\n\", spacex_df.groupby('Launch Site')['class'].mean().sort_values(ascending=False), \"\\n\")\n",
        "\n",
        "spacex_df['payload_bin'] = pd.cut(spacex_df['Payload Mass (kg)'], bins=[0, 2000, 4000, 6000, 8000, 10000],\n",
        "                                   labels=['0–2k', '2–4k', '4–6k', '6–8k', '8–10k'])\n",
        "\n",
        "print(\"3. Success rate by payload range:\\n\", spacex_df.groupby('payload_bin')['class'].mean().sort_values(ascending=False), \"\\n\")\n",
        "\n",
        "print(\"4. Success rate by booster version:\\n\", spacex_df.groupby('Booster Version Category')['class'].mean().sort_values(ascending=False), \"\\n\")"
      ],
      "metadata": {
        "id": "egtlfhon4gzN",
        "outputId": "d0be4fb7-c9c5-4562-f46b-c4d013419f9f",
        "colab": {
          "base_uri": "https://localhost:8080/"
        }
      },
      "execution_count": 30,
      "outputs": [
        {
          "output_type": "stream",
          "name": "stdout",
          "text": [
            "1. Most successful launches by site:\n",
            " Launch Site\n",
            "KSC LC-39A      10\n",
            "CCAFS LC-40      7\n",
            "VAFB SLC-4E      4\n",
            "CCAFS SLC-40     3\n",
            "Name: count, dtype: int64 \n",
            "\n",
            "2. Highest success rate by site:\n",
            " Launch Site\n",
            "KSC LC-39A      0.769231\n",
            "CCAFS SLC-40    0.428571\n",
            "VAFB SLC-4E     0.400000\n",
            "CCAFS LC-40     0.269231\n",
            "Name: class, dtype: float64 \n",
            "\n",
            "3. Success rate by payload range:\n",
            " payload_bin\n",
            "2–4k     0.619048\n",
            "8–10k    0.600000\n",
            "4–6k     0.384615\n",
            "0–2k     0.272727\n",
            "6–8k     0.000000\n",
            "Name: class, dtype: float64 \n",
            "\n",
            "4. Success rate by booster version:\n",
            " Booster Version Category\n",
            "B5      1.000000\n",
            "FT      0.666667\n",
            "B4      0.545455\n",
            "v1.1    0.066667\n",
            "v1.0    0.000000\n",
            "Name: class, dtype: float64 \n",
            "\n"
          ]
        },
        {
          "output_type": "stream",
          "name": "stderr",
          "text": [
            "/tmp/ipython-input-30-2910124314.py:8: FutureWarning:\n",
            "\n",
            "The default of observed=False is deprecated and will be changed to True in a future version of pandas. Pass observed=False to retain current behavior or observed=True to adopt the future default and silence this warning.\n",
            "\n"
          ]
        }
      ]
    },
    {
      "cell_type": "code",
      "source": [],
      "metadata": {
        "id": "HrIAax_-4lSy"
      },
      "execution_count": null,
      "outputs": []
    }
  ]
}